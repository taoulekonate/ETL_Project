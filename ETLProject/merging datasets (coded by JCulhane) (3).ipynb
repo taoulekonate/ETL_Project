{
 "cells": [
  {
   "cell_type": "code",
   "execution_count": null,
   "metadata": {},
   "outputs": [],
   "source": [
    "# Dependencies\n",
    "import pandas as pd"
   ]
  },
  {
   "cell_type": "code",
   "execution_count": null,
   "metadata": {},
   "outputs": [],
   "source": [
    "# Store filepath in a variable\n",
    "csv_file1 = \"Resources/new_providers.csv\"\n",
    "csv_file2 = \"Output/2000-2014_cdc-aids-deaths-by-state_averages.csv\""
   ]
  },
  {
   "cell_type": "code",
   "execution_count": null,
   "metadata": {},
   "outputs": [],
   "source": [
    "# Read Data files\n",
    "file1_df = pd.read_csv(csv_file1)\n",
    "file2_df = pd.read_csv(csv_file2)"
   ]
  },
  {
   "cell_type": "code",
   "execution_count": null,
   "metadata": {},
   "outputs": [],
   "source": [
    "merged1_df = pd.merge(file1_df, file2_df, how=\"left\", on=['geography', 'geography'])\n",
    "\n",
    "file1_grp = file1_df.groupby(\"geography\")\n",
    "total_clinics = file1_grp[\"id\"].count()\n",
    "counted = pd.DataFrame({\"Total Clinics\":total_clinics})\n",
    "counted = counted.reset_index()\n",
    "counted\n",
    "merged2_df = pd.merge(counted, file2_df, how=\"left\", on=['geography', 'geography'])\n",
    "# Export file as a CSV\n",
    "merged1_df.to_csv(\"Output/2000-2014_with_clinic_names.csv\", index=False, header=True)\n",
    "merged2_df.to_csv(\"Output/2000-2014_states_by_number_of_clinics_and_HIV_deaths.csv\", index=False, header=True)"
   ]
  },
  {
   "cell_type": "code",
   "execution_count": null,
   "metadata": {},
   "outputs": [],
   "source": []
  }
 ],
 "metadata": {
  "anaconda-cloud": {},
  "kernelspec": {
   "display_name": "Python 3",
   "language": "python",
   "name": "python3"
  },
  "language_info": {
   "codemirror_mode": {
    "name": "ipython",
    "version": 3
   },
   "file_extension": ".py",
   "mimetype": "text/x-python",
   "name": "python",
   "nbconvert_exporter": "python",
   "pygments_lexer": "ipython3",
   "version": "3.7.3"
  }
 },
 "nbformat": 4,
 "nbformat_minor": 2
}
